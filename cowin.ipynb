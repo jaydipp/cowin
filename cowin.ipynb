{
 "cells": [
  {
   "cell_type": "code",
   "execution_count": 43,
   "metadata": {},
   "outputs": [],
   "source": [
    "from urllib.request import urlopen\r\n",
    "from bs4 import BeautifulSoup\r\n",
    "from selenium import webdriver\r\n",
    "from selenium.common.exceptions import NoSuchElementException"
   ]
  },
  {
   "cell_type": "markdown",
   "metadata": {},
   "source": [
    "Set path for chrome driver"
   ]
  },
  {
   "cell_type": "code",
   "execution_count": 44,
   "metadata": {},
   "outputs": [],
   "source": [
    "path = 'D:/Tools/chromedriver_win32/chromedriver.exe'\n",
    "driver = webdriver.Chrome(executable_path = path)"
   ]
  },
  {
   "cell_type": "markdown",
   "metadata": {},
   "source": [
    "Provide URL"
   ]
  },
  {
   "cell_type": "code",
   "execution_count": 45,
   "metadata": {},
   "outputs": [],
   "source": [
    "driver.get('https://www.cowin.gov.in/home')\n",
    "html = driver.page_source"
   ]
  },
  {
   "cell_type": "code",
   "execution_count": 46,
   "metadata": {},
   "outputs": [],
   "source": [
    "soup = BeautifulSoup(html, \"html.parser\")"
   ]
  },
  {
   "cell_type": "markdown",
   "metadata": {},
   "source": [
    "Enter Pincode"
   ]
  },
  {
   "cell_type": "code",
   "execution_count": 47,
   "metadata": {},
   "outputs": [],
   "source": [
    "pincode = 392001\r\n",
    "pin_input= driver.find_element_by_id('mat-input-0')\r\n",
    "pin_input.send_keys(pincode)"
   ]
  },
  {
   "cell_type": "markdown",
   "metadata": {},
   "source": [
    "Search Button"
   ]
  },
  {
   "cell_type": "code",
   "execution_count": 48,
   "metadata": {},
   "outputs": [],
   "source": [
    "search_button = driver.find_element_by_class_name('pin-search-btn').click()"
   ]
  },
  {
   "cell_type": "markdown",
   "metadata": {},
   "source": [
    "Radio Button"
   ]
  },
  {
   "cell_type": "code",
   "execution_count": 49,
   "metadata": {},
   "outputs": [],
   "source": [
    "# radio_button_18_plus = driver.find_element_by_id(\"flexRadioDefault1\").click()"
   ]
  },
  {
   "cell_type": "code",
   "execution_count": 54,
   "metadata": {},
   "outputs": [
    {
     "name": "stdout",
     "output_type": "stream",
     "text": [
      "11\n"
     ]
    }
   ],
   "source": [
    "body_content = driver.find_element_by_css_selector(\"div.center-box\").find_elements_by_class_name(\"row\")\r\n",
    "print(len(body_content))"
   ]
  },
  {
   "cell_type": "code",
   "execution_count": 58,
   "metadata": {},
   "outputs": [
    {
     "name": "stdout",
     "output_type": "stream",
     "text": [
      "slots-box\n",
      "Appointment is available.\n",
      "slots-box\n",
      "Appointment is available.\n",
      "slots-box\n",
      "Appointment is available.\n",
      "slots-box\n",
      "Appointment is available.\n",
      "slots-box\n",
      "Appointment is available.\n",
      "slots-box\n",
      "Appointment is available.\n",
      "slots-box\n",
      "Appointment is available.\n",
      "slots-box\n",
      "Appointment is available.\n",
      "slots-box\n",
      "Appointment is available.\n",
      "slots-box\n",
      "Appointment is available.\n",
      "slots-box\n",
      "Appointment is available.\n"
     ]
    }
   ],
   "source": [
    "for body_c in body_content:\r\n",
    "    name = driver.find_element_by_xpath(\"//body/app-root/div[@class='mainContainer']/app-home/div[@class='maplocationblock bs-section']/div[@class='container']/appointment-table/div/div[@class='page-wrapper']/div[@class='register-wrap']/div[@class='padding-0']/div/div[@class='padding-0']/div/div[@class='register-box']/div/div/div/form[@class='ng-invalid ng-dirty ng-touched']/div/div/div[@class='col-padding matlistingblock']/div[@class='center-box']/div[@class='mat-main-field center-main-field']/div/div[1]/div[1]/div[1]/div[2]/ul[1]/li[1]/div[1]\").get_attribute(\"class\")\r\n",
    "    print(name)\r\n",
    "    if name == 'slots-box':\r\n",
    "        print(\"Appointment is available.\")\r\n",
    "    else:\r\n",
    "        print(\"Appointment is not available.\")"
   ]
  },
  {
   "cell_type": "code",
   "execution_count": null,
   "metadata": {},
   "outputs": [],
   "source": []
  }
 ],
 "metadata": {
  "kernelspec": {
   "display_name": "Python 3.7.1 64-bit",
   "name": "python371jvsc74a57bd0fba5be52c836489bc79c9def54e7064594d03c87606e0b862709da9e0c1c2b19"
  },
  "language_info": {
   "codemirror_mode": {
    "name": "ipython",
    "version": 3
   },
   "file_extension": ".py",
   "mimetype": "text/x-python",
   "name": "python",
   "nbconvert_exporter": "python",
   "pygments_lexer": "ipython3",
   "version": "3.7.1"
  },
  "metadata": {
   "interpreter": {
    "hash": "fba5be52c836489bc79c9def54e7064594d03c87606e0b862709da9e0c1c2b19"
   }
  }
 },
 "nbformat": 4,
 "nbformat_minor": 4
}